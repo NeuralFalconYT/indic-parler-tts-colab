{
  "nbformat": 4,
  "nbformat_minor": 0,
  "metadata": {
    "colab": {
      "provenance": [],
      "gpuType": "T4"
    },
    "kernelspec": {
      "name": "python3",
      "display_name": "Python 3"
    },
    "language_info": {
      "name": "python"
    },
    "accelerator": "GPU"
  },
  "cells": [
    {
      "cell_type": "markdown",
      "source": [
        "[Hugging Face Model Page](https://huggingface.co/ai4bharat/indic-parler-tts)<br>\n",
        "[Hugging Face Space](https://huggingface.co/spaces/ai4bharat/indic-parler-tts)"
      ],
      "metadata": {
        "id": "S_o-14kYLIqL"
      }
    },
    {
      "cell_type": "code",
      "execution_count": null,
      "metadata": {
        "id": "pANs2WxWKMzL"
      },
      "outputs": [],
      "source": [
        "!git clone https://github.com/NeuralFalconYT/indic-parler-tts-colab.git\n",
        "%cd /content/indic-parler-tts-colab\n",
        "!pip install -r requirements.txt\n",
        "from IPython.display import clear_output\n",
        "clear_output()"
      ]
    },
    {
      "cell_type": "code",
      "source": [
        "%cd /content/indic-parler-tts-colab\n",
        "!python app.py --share\n",
        "# !python app.py --debug --share"
      ],
      "metadata": {
        "id": "7KZXcPr9KpFt"
      },
      "execution_count": null,
      "outputs": []
    }
  ]
}